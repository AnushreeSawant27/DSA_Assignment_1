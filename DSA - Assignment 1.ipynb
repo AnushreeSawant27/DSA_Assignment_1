{
 "cells": [
  {
   "cell_type": "markdown",
   "id": "180a82e8",
   "metadata": {},
   "source": [
    "# Q1. Write a program to find all pairs of an integer array whose sum is equal to a given number?"
   ]
  },
  {
   "cell_type": "code",
   "execution_count": null,
   "id": "41f14a02",
   "metadata": {},
   "outputs": [],
   "source": [
    "# def find_pairs_with_sum(arr, target_sum):\n",
    "    # Create an empty dictionary to store elements and their frequencies\n",
    "    num_count = {}\n",
    "    \n",
    "    # Initialize an empty list to store pairs\n",
    "    pairs = []\n",
    "    \n",
    "    # Iterate through the array\n",
    "    for num in arr:\n",
    "        # Calculate the complement of the current number with respect to the target sum\n",
    "        complement = target_sum - num\n",
    "        \n",
    "        # Check if the complement is already in the dictionary\n",
    "        if complement in num_count and num_count[complement] > 0:\n",
    "            # Add the pair to the result list\n",
    "            pairs.append((num, complement))\n",
    "            \n",
    "            # Update the frequency of the complement\n",
    "            num_count[complement] -= 1\n",
    "        else:\n",
    "            # Add the current number to the dictionary\n",
    "            if num in num_count:\n",
    "                num_count[num] += 1\n",
    "            else:\n",
    "                num_count[num] = 1\n",
    "    \n",
    "    return pairs\n",
    "\n",
    "# Example usage\n",
    "arr = [2, 4, 3, 1, 5, 6, 7]\n",
    "target = 7\n",
    "result = find_pairs_with_sum(arr, target)\n",
    "\n",
    "if result:\n",
    "    print(\"Pairs with sum\", target, \"are:\", result)\n",
    "else:\n",
    "    print(\"No pairs with sum\", target, \"found.\")"
   ]
  },
  {
   "cell_type": "markdown",
   "id": "03f9c959",
   "metadata": {},
   "source": [
    "# Q2. Write a program to reverse an array in place? In place means you cannot create a new array. You have to update the original array."
   ]
  },
  {
   "cell_type": "code",
   "execution_count": 2,
   "id": "5263a0a0",
   "metadata": {},
   "outputs": [
    {
     "name": "stdout",
     "output_type": "stream",
     "text": [
      "Original array: [1, 2, 3, 4, 5]\n",
      "Reversed array: [5, 4, 3, 2, 1]\n"
     ]
    }
   ],
   "source": [
    "def reverse_array(arr):\n",
    "    # Get the length of the array\n",
    "    length = len(arr)\n",
    "    \n",
    "    # Iterate through the first half of the array\n",
    "    for i in range(length // 2):\n",
    "        # Swap elements from the beginning and end of the array\n",
    "        arr[i], arr[length - i - 1] = arr[length - i - 1], arr[i]\n",
    "\n",
    "# Example usage\n",
    "arr = [1, 2, 3, 4, 5]\n",
    "print(\"Original array:\", arr)\n",
    "\n",
    "reverse_array(arr)\n",
    "print(\"Reversed array:\", arr)"
   ]
  },
  {
   "cell_type": "markdown",
   "id": "1dc43822",
   "metadata": {},
   "source": [
    "# Q3. Write a program to check if two strings are a rotation of each other?"
   ]
  },
  {
   "cell_type": "code",
   "execution_count": 3,
   "id": "2cd7e41c",
   "metadata": {},
   "outputs": [
    {
     "name": "stdout",
     "output_type": "stream",
     "text": [
      "abcd and cdab are rotations of each other.\n"
     ]
    }
   ],
   "source": [
    "def are_rotations(str1, str2):\n",
    "    # Check if the lengths of the two strings are the same\n",
    "    if len(str1) != len(str2):\n",
    "        return False\n",
    "\n",
    "    # Concatenate the first string to itself\n",
    "    str1 = str1 + str1\n",
    "\n",
    "    # Check if the second string is a substring of the concatenated string\n",
    "    if str2 in str1:\n",
    "        return True\n",
    "    else:\n",
    "        return False\n",
    "\n",
    "# Example usage\n",
    "string1 = \"abcd\"\n",
    "string2 = \"cdab\"\n",
    "\n",
    "if are_rotations(string1, string2):\n",
    "    print(string1, \"and\", string2, \"are rotations of each other.\")\n",
    "else:\n",
    "    print(string1, \"and\", string2, \"are not rotations of each other.\")"
   ]
  },
  {
   "cell_type": "markdown",
   "id": "96e3d947",
   "metadata": {},
   "source": [
    "# Q4. Write a program to print the first non-repeated character from a string?"
   ]
  },
  {
   "cell_type": "code",
   "execution_count": 5,
   "id": "a5a6c532",
   "metadata": {},
   "outputs": [
    {
     "name": "stdout",
     "output_type": "stream",
     "text": [
      "Give an input:djdkfvhdjksggsy\n",
      "The first non-repeated character is: f\n"
     ]
    }
   ],
   "source": [
    "def first_non_repeated_char(input_string):\n",
    "    # Create a dictionary to store character frequencies\n",
    "    char_count = {}\n",
    "\n",
    "    # Iterate through the string and count character frequencies\n",
    "    for char in input_string:\n",
    "        if char in char_count:\n",
    "            char_count[char] += 1\n",
    "        else:\n",
    "            char_count[char] = 1\n",
    "\n",
    "    # Iterate through the string again to find the first non-repeated character\n",
    "    for char in input_string:\n",
    "        if char_count[char] == 1:\n",
    "            return char\n",
    "\n",
    "    # If no non-repeated character is found, return None\n",
    "    return None\n",
    "\n",
    "# Example usage\n",
    "input_str = input(\"Give an input:\")\n",
    "result = first_non_repeated_char(input_str)\n",
    "\n",
    "if result:\n",
    "    print(\"The first non-repeated character is:\", result)\n",
    "else:\n",
    "    print(\"No non-repeated characters found in the string.\")"
   ]
  },
  {
   "cell_type": "markdown",
   "id": "efb9bba8",
   "metadata": {},
   "source": [
    "# Q5. Write a recursive function to check if a given string is a palindrome."
   ]
  },
  {
   "cell_type": "code",
   "execution_count": 6,
   "id": "520928a5",
   "metadata": {},
   "outputs": [
    {
     "name": "stdout",
     "output_type": "stream",
     "text": [
      "racecar is a palindrome.\n",
      "hello is not a palindrome.\n"
     ]
    }
   ],
   "source": [
    "def is_palindrome(s):\n",
    "    # Base case: if the string is empty or has only one character, it's a palindrome\n",
    "    if len(s) <= 1:\n",
    "        return True\n",
    "\n",
    "    # Check if the first and last characters are the same\n",
    "    if s[0] == s[-1]:\n",
    "        # Recursively check the substring without the first and last characters\n",
    "        return is_palindrome(s[1:-1])\n",
    "\n",
    "    # If the first and last characters are not the same, it's not a palindrome\n",
    "    return False\n",
    "\n",
    "# Example usage\n",
    "string1 = \"racecar\"\n",
    "string2 = \"hello\"\n",
    "\n",
    "if is_palindrome(string1):\n",
    "    print(string1, \"is a palindrome.\")\n",
    "else:\n",
    "    print(string1, \"is not a palindrome.\")\n",
    "\n",
    "if is_palindrome(string2):\n",
    "    print(string2, \"is a palindrome.\")\n",
    "else:\n",
    "    print(string2, \"is not a palindrome.\")"
   ]
  },
  {
   "cell_type": "markdown",
   "id": "46427b99",
   "metadata": {},
   "source": [
    "# Q6. Read about infix, prefix, and postfix expressions. Write a program to convert postfix to prefix expression."
   ]
  },
  {
   "cell_type": "code",
   "execution_count": 7,
   "id": "3521d24f",
   "metadata": {},
   "outputs": [
    {
     "name": "stdout",
     "output_type": "stream",
     "text": [
      "Postfix Expression: 2 3 +\n",
      "Prefix Expression: 2\n"
     ]
    }
   ],
   "source": [
    "def postfix_to_prefix(postfix):\n",
    "    stack = []\n",
    "    operators = set(['+', '-', '*', '/', '^'])\n",
    "\n",
    "    for token in postfix:\n",
    "        if token not in operators:\n",
    "            stack.append(token)\n",
    "        else:\n",
    "            operand2 = stack.pop()\n",
    "            operand1 = stack.pop()\n",
    "            stack.append(token + \" \" + operand1 + \" \" + operand2)\n",
    "\n",
    "    # The stack should contain the prefix expression\n",
    "    return stack[0]\n",
    "\n",
    "# Example usage\n",
    "postfix_expression = \"2 3 +\"\n",
    "prefix_expression = postfix_to_prefix(postfix_expression)\n",
    "print(\"Postfix Expression:\", postfix_expression)\n",
    "print(\"Prefix Expression:\", prefix_expression)"
   ]
  },
  {
   "cell_type": "markdown",
   "id": "b66f766c",
   "metadata": {},
   "source": [
    "# Q7. Write a program to convert prefix expression to infix expression."
   ]
  },
  {
   "cell_type": "code",
   "execution_count": 8,
   "id": "fb701812",
   "metadata": {},
   "outputs": [
    {
     "name": "stdout",
     "output_type": "stream",
     "text": [
      "Prefix Expression: * + 2 3 4\n",
      "Infix Expression: 4\n"
     ]
    }
   ],
   "source": [
    "def is_operator(char):\n",
    "    return char in \"+-*/\"\n",
    "\n",
    "def prefix_to_infix(prefix):\n",
    "    stack = []\n",
    "    operators = set(['+', '-', '*', '/'])\n",
    "\n",
    "    # Reverse the prefix expression to process it from right to left\n",
    "    prefix = prefix[::-1]\n",
    "\n",
    "    for char in prefix:\n",
    "        if not is_operator(char):\n",
    "            stack.append(char)\n",
    "        else:\n",
    "            operand1 = stack.pop()\n",
    "            operand2 = stack.pop()\n",
    "            infix_expression = f\"({operand1}{char}{operand2})\"\n",
    "            stack.append(infix_expression)\n",
    "\n",
    "    # The stack should contain the final infix expression\n",
    "    return stack[0]\n",
    "\n",
    "# Example usage\n",
    "prefix_expression = \"* + 2 3 4\"\n",
    "infix_expression = prefix_to_infix(prefix_expression)\n",
    "print(\"Prefix Expression:\", prefix_expression)\n",
    "print(\"Infix Expression:\", infix_expression)"
   ]
  },
  {
   "cell_type": "markdown",
   "id": "5b1c3042",
   "metadata": {},
   "source": [
    "# Q8. Write a program to check if all the brackets are closed in a given code snippet."
   ]
  },
  {
   "cell_type": "code",
   "execution_count": 9,
   "id": "8e35a3c2",
   "metadata": {},
   "outputs": [
    {
     "name": "stdout",
     "output_type": "stream",
     "text": [
      "Brackets are balanced.\n"
     ]
    }
   ],
   "source": [
    "def are_brackets_balanced(code):\n",
    "    stack = []\n",
    "    # Define the bracket pairs\n",
    "    bracket_pairs = {')': '(', '}': '{', ']': '['}\n",
    "\n",
    "    for char in code:\n",
    "        if char in '([{':\n",
    "            # If an opening bracket is encountered, push it onto the stack\n",
    "            stack.append(char)\n",
    "        elif char in ')]}':\n",
    "            # If a closing bracket is encountered\n",
    "            if not stack:\n",
    "                # If the stack is empty, there's no matching opening bracket\n",
    "                return False\n",
    "            # Pop the last bracket from the stack and check if it matches the closing bracket\n",
    "            last_opening_bracket = stack.pop()\n",
    "            if bracket_pairs[char] != last_opening_bracket:\n",
    "                return False\n",
    "\n",
    "    # If the stack is empty at the end, all brackets are balanced\n",
    "    return len(stack) == 0\n",
    "\n",
    "# Example usage\n",
    "code_snippet = \"if (x > 0) { y = x * 2; }\"\n",
    "if are_brackets_balanced(code_snippet):\n",
    "    print(\"Brackets are balanced.\")\n",
    "else:\n",
    "    print(\"Brackets are not balanced.\")"
   ]
  },
  {
   "cell_type": "markdown",
   "id": "da20d202",
   "metadata": {},
   "source": [
    "# Q9. Write a program to reverse a stack."
   ]
  },
  {
   "cell_type": "code",
   "execution_count": 10,
   "id": "d29b065e",
   "metadata": {},
   "outputs": [
    {
     "name": "stdout",
     "output_type": "stream",
     "text": [
      "Original Stack: [1, 2, 3, 4]\n",
      "Reversed Stack: [1, 2, 3, 4]\n"
     ]
    }
   ],
   "source": [
    "class Stack:\n",
    "    def __init__(self):\n",
    "        self.items = []\n",
    "\n",
    "    def is_empty(self):\n",
    "        return len(self.items) == 0\n",
    "\n",
    "    def push(self, item):\n",
    "        self.items.append(item)\n",
    "\n",
    "    def pop(self):\n",
    "        if not self.is_empty():\n",
    "            return self.items.pop()\n",
    "        else:\n",
    "            return None\n",
    "\n",
    "    def peek(self):\n",
    "        if not self.is_empty():\n",
    "            return self.items[-1]\n",
    "        else:\n",
    "            return None\n",
    "\n",
    "    def size(self):\n",
    "        return len(self.items)\n",
    "\n",
    "def reverse_stack(stack):\n",
    "    aux_stack = Stack()\n",
    "\n",
    "    # Pop all elements from the original stack and push them onto the auxiliary stack\n",
    "    while not stack.is_empty():\n",
    "        aux_stack.push(stack.pop())\n",
    "\n",
    "    # Pop all elements from the auxiliary stack and push them back onto the original stack\n",
    "    while not aux_stack.is_empty():\n",
    "        stack.push(aux_stack.pop())\n",
    "\n",
    "# Example usage\n",
    "stack = Stack()\n",
    "stack.push(1)\n",
    "stack.push(2)\n",
    "stack.push(3)\n",
    "stack.push(4)\n",
    "\n",
    "print(\"Original Stack:\", stack.items)\n",
    "reverse_stack(stack)\n",
    "print(\"Reversed Stack:\", stack.items)"
   ]
  },
  {
   "cell_type": "markdown",
   "id": "d3ed5bb4",
   "metadata": {},
   "source": [
    "# Q10. Write a program to find the smallest number using a stack."
   ]
  },
  {
   "cell_type": "code",
   "execution_count": 11,
   "id": "c21985e1",
   "metadata": {},
   "outputs": [
    {
     "name": "stdout",
     "output_type": "stream",
     "text": [
      "Minimum: 1\n",
      "Minimum: 2\n"
     ]
    }
   ],
   "source": [
    "class MinStack:\n",
    "    def __init__(self):\n",
    "        self.stack = []  # Main stack to store values\n",
    "        self.min_stack = []  # Auxiliary stack to store minimum values\n",
    "\n",
    "    def push(self, value):\n",
    "        self.stack.append(value)\n",
    "        if not self.min_stack or value <= self.min_stack[-1]:\n",
    "            self.min_stack.append(value)\n",
    "\n",
    "    def pop(self):\n",
    "        if not self.stack:\n",
    "            return None\n",
    "        if self.stack[-1] == self.min_stack[-1]:\n",
    "            self.min_stack.pop()\n",
    "        return self.stack.pop()\n",
    "\n",
    "    def top(self):\n",
    "        if not self.stack:\n",
    "            return None\n",
    "        return self.stack[-1]\n",
    "\n",
    "    def get_min(self):\n",
    "        if not self.min_stack:\n",
    "            return None\n",
    "        return self.min_stack[-1]\n",
    "\n",
    "# Example usage\n",
    "stack = MinStack()\n",
    "stack.push(3)\n",
    "stack.push(5)\n",
    "stack.push(2)\n",
    "stack.push(1)\n",
    "\n",
    "print(\"Minimum:\", stack.get_min())  # Should print 1\n",
    "stack.pop()\n",
    "print(\"Minimum:\", stack.get_min())  # Should print 2"
   ]
  }
 ],
 "metadata": {
  "kernelspec": {
   "display_name": "Python 3 (ipykernel)",
   "language": "python",
   "name": "python3"
  },
  "language_info": {
   "codemirror_mode": {
    "name": "ipython",
    "version": 3
   },
   "file_extension": ".py",
   "mimetype": "text/x-python",
   "name": "python",
   "nbconvert_exporter": "python",
   "pygments_lexer": "ipython3",
   "version": "3.11.5"
  }
 },
 "nbformat": 4,
 "nbformat_minor": 5
}
